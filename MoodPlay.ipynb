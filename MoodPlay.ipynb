{
  "nbformat": 4,
  "nbformat_minor": 0,
  "metadata": {
    "colab": {
      "provenance": [],
      "authorship_tag": "ABX9TyP1gqaFN+heQIclRm4McJ1/",
      "include_colab_link": true
    },
    "kernelspec": {
      "name": "python3",
      "display_name": "Python 3"
    },
    "language_info": {
      "name": "python"
    }
  },
  "cells": [
    {
      "cell_type": "markdown",
      "metadata": {
        "id": "view-in-github",
        "colab_type": "text"
      },
      "source": [
        "<a href=\"https://colab.research.google.com/github/namitasathish/MoodPlay/blob/main/MoodPlay.ipynb\" target=\"_parent\"><img src=\"https://colab.research.google.com/assets/colab-badge.svg\" alt=\"Open In Colab\"/></a>"
      ]
    },
    {
      "cell_type": "code",
      "source": [
        "import os\n",
        "import requests\n",
        "from dotenv import load_dotenv\n",
        "\n",
        "\n",
        "load_dotenv()\n",
        "\n",
        "class SpotifyMoodMusic:\n",
        "    def __init__(self):\n",
        "\n",
        "        self.client_id = os.getenv('SPOTIFY_CLIENT_ID')\n",
        "        self.client_secret = os.getenv('SPOTIFY_CLIENT_SECRET')\n",
        "        self.token = self._get_spotify_token()\n",
        "\n",
        "    def _get_spotify_token(self):\n",
        "        auth_response = requests.post(\n",
        "            'https://accounts.spotify.com/api/token',\n",
        "            data={\n",
        "                'grant_type': 'client_credentials',\n",
        "                'client_id': self.client_id,\n",
        "                'client_secret': self.client_secret,\n",
        "            }\n",
        "        )\n",
        "        return auth_response.json().get('access_token')\n",
        "\n",
        "    def fetch_songs(self, genre):\n",
        "        headers = {\n",
        "            'Authorization': f'Bearer {self.token}'\n",
        "        }\n",
        "        url = f'https://api.spotify.com/v1/recommendations?seed_genres={genre}&limit=10'\n",
        "        response = requests.get(url, headers=headers)\n",
        "        tracks = response.json().get('tracks', [])\n",
        "        return [{'title': track['name'], 'artist': track['artists'][0]['name']} for track in tracks]\n",
        "\n",
        "    @staticmethod\n",
        "    def mood_to_genre(mood):\n",
        "        genremapping = {\n",
        "            'happy': 'pop',\n",
        "            'sad': 'sad',\n",
        "            'energetic': 'dance',\n",
        "            'relaxed': 'ambient',\n",
        "            'angry': 'metal',\n",
        "            'romantic': 'romance',\n",
        "            'intrigued': 'indie',\n",
        "            'b': 'soul',\n",
        "            'urgent': 'electronic',\n",
        "            'confident': 'rock',\n",
        "            'reflective': 'soul',\n",
        "            'frustrated': 'punk',\n",
        "            'melancholic': 'indie',\n",
        "            'thoughtful': 'jazz',\n",
        "            'motivated': 'hip-hop',\n",
        "            'sentimental': 'acoustic',\n",
        "            'dreamy': 'indie',\n",
        "            'playful': 'funk'\n",
        "        }\n",
        "        return genremapping.get(mood.lower(), 'pop')\n",
        "\n",
        "if __name__ == '__main__':\n",
        "    moodmusic = SpotifyMoodMusic()\n",
        "\n",
        "    usermood = input(\"Enter your mood (happy, sad, energetic, relaxed, etc.): \")\n",
        "    genre = moodmusic.mood_to_genre(usermood)\n",
        "\n",
        "    songs = moodmusic.fetch_songs(genre)\n",
        "\n",
        "    print(f\"Recommended songs for your mood '{usermood}':\\n\")\n",
        "    for song in songs:\n",
        "        print(f\"{song['title']} by {song['artist']}\")\n",
        "\n"
      ],
      "metadata": {
        "colab": {
          "base_uri": "https://localhost:8080/"
        },
        "id": "GiIvJGdU7CDn",
        "outputId": "b336b757-c669-4c76-db29-1bfcced3112b"
      },
      "execution_count": 18,
      "outputs": [
        {
          "output_type": "stream",
          "name": "stdout",
          "text": [
            "Enter your mood (happy, sad, energetic, relaxed, etc.): confident\n",
            "Recommended songs for your mood 'confident':\n",
            "\n",
            "All Along the Watchtower by Jimi Hendrix\n",
            "By the Way by Red Hot Chili Peppers\n",
            "Any Way You Want It by Journey\n",
            "Should I Stay or Should I Go - Remastered by The Clash\n",
            "Turn by The Wombats\n",
            "What's Wrong by PVRIS\n",
            "Paint It Black by The Rolling Stones\n",
            "Black Magic Woman - Single Version by Santana\n",
            "Addicted by Saving Abel\n",
            "Sharp Dressed Man - 2008 Remaster by ZZ Top\n"
          ]
        }
      ]
    }
  ]
}